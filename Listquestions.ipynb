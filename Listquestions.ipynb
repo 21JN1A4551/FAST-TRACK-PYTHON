{
  "nbformat": 4,
  "nbformat_minor": 0,
  "metadata": {
    "colab": {
      "provenance": [],
      "include_colab_link": true
    },
    "kernelspec": {
      "name": "python3",
      "display_name": "Python 3"
    },
    "language_info": {
      "name": "python"
    }
  },
  "cells": [
    {
      "cell_type": "markdown",
      "metadata": {
        "id": "view-in-github",
        "colab_type": "text"
      },
      "source": [
        "<a href=\"https://colab.research.google.com/github/21JN1A4551/FAST-TRACK-PYTHON/blob/main/Listquestions.ipynb\" target=\"_parent\"><img src=\"https://colab.research.google.com/assets/colab-badge.svg\" alt=\"Open In Colab\"/></a>"
      ]
    },
    {
      "cell_type": "markdown",
      "source": [
        "1.\tFinding Maximum and Minimum: Write a Python program that takes a list of numbers as input and finds the maximum and minimum values using the max() and min() functions."
      ],
      "metadata": {
        "id": "53p0IcqLBc5t"
      }
    },
    {
      "cell_type": "code",
      "source": [
        "list=[\"34\",\"100\",\"23\"]\n",
        "print(max(list))\n",
        "print(min(list))"
      ],
      "metadata": {
        "colab": {
          "base_uri": "https://localhost:8080/"
        },
        "id": "M4U44Q_2BdyI",
        "outputId": "1c15dc01-cf31-46f0-b0c7-c3ff6077b832"
      },
      "execution_count": null,
      "outputs": [
        {
          "output_type": "stream",
          "name": "stdout",
          "text": [
            "34\n",
            "100\n"
          ]
        }
      ]
    },
    {
      "cell_type": "markdown",
      "source": [
        "2.\tCalculating Sum and Average: Write a Python program that takes a list of numbers as input and calculates the sum and average of all the numbers using the sum() function and list length."
      ],
      "metadata": {
        "id": "JQaHWrV3ClwE"
      }
    },
    {
      "cell_type": "code",
      "source": [
        "list=[1,2,3,4,5,6,7,8,9]\n",
        "print(sum(list))\n",
        "avg=sum(list)/len(list)\n",
        "print(avg)"
      ],
      "metadata": {
        "colab": {
          "base_uri": "https://localhost:8080/"
        },
        "id": "9tY_lIeRCpyk",
        "outputId": "11c21410-b928-4a3e-b5fc-de70be45a790"
      },
      "execution_count": null,
      "outputs": [
        {
          "output_type": "stream",
          "name": "stdout",
          "text": [
            "45\n",
            "5.0\n"
          ]
        }
      ]
    },
    {
      "cell_type": "markdown",
      "source": [
        "3.\tSorting Lists: Write a Python program that takes a list of numbers as input and sorts them in ascending and descending order using the sort() method with the reverse parameter"
      ],
      "metadata": {
        "id": "seOftCLoDwq2"
      }
    },
    {
      "cell_type": "code",
      "source": [
        "list=[1,2,3,8,5,6,8,5,7,8,9]\n",
        "sorted(list,reverse=True)\n",
        "#sorted.list[::-1]\n",
        "\n",
        "\n"
      ],
      "metadata": {
        "colab": {
          "base_uri": "https://localhost:8080/"
        },
        "id": "Ndg9Dl5gDzQP",
        "outputId": "ab7f062e-6cef-43d9-d537-1231a73a5853"
      },
      "execution_count": null,
      "outputs": [
        {
          "output_type": "execute_result",
          "data": {
            "text/plain": [
              "[9, 8, 8, 8, 7, 6, 5, 5, 3, 2, 1]"
            ]
          },
          "metadata": {},
          "execution_count": 3
        }
      ]
    },
    {
      "cell_type": "markdown",
      "source": [
        "4.\tReversing Lists: Write a Python program that takes a list as input and reverses the order of its elements using the reverse() method."
      ],
      "metadata": {
        "id": "8a1MOjnFG745"
      }
    },
    {
      "cell_type": "code",
      "source": [
        "list=[\"34\",\"100\",\"23\"]\n",
        "list.reverse()\n",
        "print(list)"
      ],
      "metadata": {
        "colab": {
          "base_uri": "https://localhost:8080/"
        },
        "id": "oU0QZMBKG_kz",
        "outputId": "061a3092-7c7f-47f7-f2ca-c1b9e3bdf04b"
      },
      "execution_count": null,
      "outputs": [
        {
          "output_type": "stream",
          "name": "stdout",
          "text": [
            "['23', '100', '34']\n"
          ]
        }
      ]
    },
    {
      "cell_type": "markdown",
      "source": [
        "5.\tCounting Occurrences: Write a Python program that takes a list of elements as input and counts the occurrences of a specific element using the count() method."
      ],
      "metadata": {
        "id": "3jFzlPmPHP64"
      }
    },
    {
      "cell_type": "code",
      "source": [
        "list=[\"satya\",\"durga\"]\n",
        "a=list.count(\"durga\")\n",
        "print(a)"
      ],
      "metadata": {
        "colab": {
          "base_uri": "https://localhost:8080/"
        },
        "id": "-x5mA0G6HWRh",
        "outputId": "7a0d8f18-d9ee-4b0a-9bd5-7f2b6699e005"
      },
      "execution_count": null,
      "outputs": [
        {
          "output_type": "stream",
          "name": "stdout",
          "text": [
            "1\n"
          ]
        }
      ]
    },
    {
      "cell_type": "markdown",
      "source": [
        "6.\tRemoving Duplicates: Write a Python program that takes a list of elements as input and removes duplicates while preserving the original order using a loop or the set() function.\n",
        "\n"
      ],
      "metadata": {
        "id": "GCtqEfQxIC-s"
      }
    },
    {
      "cell_type": "code",
      "source": [
        "a = [\"apple\",\"banana\",\"cherry\",\"grape\",\"apple\"]\n",
        "b = set(a)\n",
        "print(b)"
      ],
      "metadata": {
        "id": "G7eOoBQfII4f",
        "colab": {
          "base_uri": "https://localhost:8080/"
        },
        "outputId": "dd98c6e7-02b0-40a1-a89b-179b3f77e414"
      },
      "execution_count": null,
      "outputs": [
        {
          "output_type": "stream",
          "name": "stdout",
          "text": [
            "{'banana', 'grape', 'cherry', 'apple'}\n"
          ]
        }
      ]
    },
    {
      "cell_type": "markdown",
      "source": [
        "7.\tCombining Lists: Write a Python program that takes two lists as input and combines them into a single list using the extend() method or the + operator."
      ],
      "metadata": {
        "id": "tpRICZaA8t_Y"
      }
    },
    {
      "cell_type": "code",
      "source": [
        "list=[\"apple\",\"bannan\",\"grapes\"]\n",
        "list1=[\"satya\",\"durga\"]\n",
        "list.extend(list1)\n",
        "print(list)"
      ],
      "metadata": {
        "colab": {
          "base_uri": "https://localhost:8080/"
        },
        "id": "ggkbgms480ek",
        "outputId": "602bd3ad-88e2-43ef-989a-23ec8b101fba"
      },
      "execution_count": null,
      "outputs": [
        {
          "output_type": "stream",
          "name": "stdout",
          "text": [
            "['apple', 'bannan', 'grapes', 'satya', 'durga']\n"
          ]
        }
      ]
    },
    {
      "cell_type": "markdown",
      "source": [
        "8.\tSplitting Lists: Write a Python program that takes a list as input and splits it into two lists, one containing even-indexed elements and the other containing odd-indexed elements."
      ],
      "metadata": {
        "id": "TrD0okrnFKI5"
      }
    },
    {
      "cell_type": "code",
      "source": [
        "a=[\"amma\",\"nanna\"]\n",
        "even=[]\n",
        "odd=[]\n",
        "\n",
        "for i in range (len(a)):\n",
        "  if (i%2==0):\n",
        "    even.append(a[i])\n",
        "  else:\n",
        "    odd.append(a[i])\n",
        "print(even)\n",
        "print(odd)\n",
        "\n"
      ],
      "metadata": {
        "colab": {
          "base_uri": "https://localhost:8080/"
        },
        "id": "2VYpFToGFNok",
        "outputId": "6c1ecb8e-13ac-4852-9fd9-87dc6ef1cff4"
      },
      "execution_count": null,
      "outputs": [
        {
          "output_type": "stream",
          "name": "stdout",
          "text": [
            "['amma']\n",
            "['nanna']\n"
          ]
        }
      ]
    },
    {
      "cell_type": "markdown",
      "source": [
        "9.\tFinding Index: Write a Python program that takes a list of elements and a target element as input, and returns the index of the first occurrence of the target element using the index() method."
      ],
      "metadata": {
        "id": "f6ZU9KLa803N"
      }
    },
    {
      "cell_type": "code",
      "source": [
        "list=[\"apple\",\"banana\",\"grapes\"]\n",
        "l=list.index(\"banana\")\n",
        "print(l)"
      ],
      "metadata": {
        "colab": {
          "base_uri": "https://localhost:8080/"
        },
        "id": "UvWqwN5285Af",
        "outputId": "9b15e4a9-7bc5-4183-c2ec-b7e9ad8fa1e1"
      },
      "execution_count": null,
      "outputs": [
        {
          "output_type": "stream",
          "name": "stdout",
          "text": [
            "1\n"
          ]
        }
      ]
    },
    {
      "cell_type": "markdown",
      "source": [
        "10.\tChecking Membership: Write a Python program that takes a list of elements and a target element as input, and checks whether the target element is present in the list using the in keyword or the __contains__() method.\n",
        "\n"
      ],
      "metadata": {
        "id": "8qFNaKEH85RC"
      }
    },
    {
      "cell_type": "code",
      "source": [
        "n = input(\"enter list\").split()\n",
        "t = input(\"enter target\").split()\n",
        "if t in n:\n",
        "  print(\"found\")\n",
        "else:\n",
        "  print(\"not found\")\n"
      ],
      "metadata": {
        "colab": {
          "base_uri": "https://localhost:8080/"
        },
        "id": "QuAa2t5yymbq",
        "outputId": "7e4199bf-95f9-49e5-ced2-53fd85149b6b"
      },
      "execution_count": null,
      "outputs": [
        {
          "output_type": "stream",
          "name": "stdout",
          "text": [
            "enter list12 13 14 16\n",
            "enter target16\n",
            "not found\n"
          ]
        }
      ]
    },
    {
      "cell_type": "markdown",
      "source": [
        "11.\tFinding Common Elements: Write a Python program that takes two lists as input and returns a new list containing elements that are common to both lists, without any duplicates."
      ],
      "metadata": {
        "id": "NLo1k9s3BC5c"
      }
    },
    {
      "cell_type": "code",
      "source": [
        "a=input(\"enter a list\").split()\n",
        "b=input(\"enter a list\").split()\n",
        "list=[]\n",
        "for element in a:\n",
        "  if element in b and element not in list:\n",
        "    list.append(element)\n",
        "print(list)"
      ],
      "metadata": {
        "id": "vPxVq33lBIEv",
        "colab": {
          "base_uri": "https://localhost:8080/"
        },
        "outputId": "2361bb51-70ce-4096-853f-4d812e13520d"
      },
      "execution_count": null,
      "outputs": [
        {
          "output_type": "stream",
          "name": "stdout",
          "text": [
            "enter a list 1 2 3 4 \n",
            "enter a list6 4 9 10\n",
            "['4']\n"
          ]
        }
      ]
    },
    {
      "cell_type": "markdown",
      "source": [
        "12.\tMerging Lists with Zip: Write a Python program that takes two lists as input and merges them into a list of tuples using the zip() function."
      ],
      "metadata": {
        "id": "iiMhz1VcBMc-"
      }
    },
    {
      "cell_type": "code",
      "source": [
        "list=[\"hello\",\"hi\"]\n",
        "list1=[\"hi\",\"hey\"]\n",
        "a=tuple(zip(list,list1))\n",
        "print(a)"
      ],
      "metadata": {
        "id": "61OmHlhvBNKC",
        "colab": {
          "base_uri": "https://localhost:8080/"
        },
        "outputId": "455b86bd-08c8-420b-9af4-ba779a7f19bc"
      },
      "execution_count": null,
      "outputs": [
        {
          "output_type": "stream",
          "name": "stdout",
          "text": [
            "(('hello', 'hi'), ('hi', 'hey'))\n"
          ]
        }
      ]
    },
    {
      "cell_type": "markdown",
      "source": [
        "13.\tSplitting Strings into Lists: Write a Python program that takes a string of comma-separated values as input and converts it into a list of individual elements."
      ],
      "metadata": {
        "id": "3tuE4yQDBPNn"
      }
    },
    {
      "cell_type": "code",
      "source": [
        "a=input(\"enter a string\")\n",
        "b=a.split(',')\n",
        "print(b)"
      ],
      "metadata": {
        "colab": {
          "base_uri": "https://localhost:8080/"
        },
        "id": "bKBdVBm2BP0U",
        "outputId": "2bb43e4b-03ab-4270-c900-7d274d8aa3f6"
      },
      "execution_count": null,
      "outputs": [
        {
          "output_type": "stream",
          "name": "stdout",
          "text": [
            "enter a string1,2,3,4\n",
            "['1', '2', '3', '4']\n"
          ]
        }
      ]
    },
    {
      "cell_type": "markdown",
      "source": [
        "14.\tChecking List Equality: Write a Python program that takes two lists as input and checks whether they are equal (i.e., have the same elements in the same order)."
      ],
      "metadata": {
        "id": "SMlhuNMQBRnq"
      }
    },
    {
      "cell_type": "code",
      "source": [
        "list=[\"apple\",\"bannan\",\"grapes\"]\n",
        "list1=[\"satya\",\"durga\"]\n",
        "if(list==list1):\n",
        "  print(\"equal\")\n",
        "else:\n",
        "  print(\"not equal\")"
      ],
      "metadata": {
        "colab": {
          "base_uri": "https://localhost:8080/"
        },
        "id": "C8qPmoNmBSQ9",
        "outputId": "8988202a-c416-471a-870d-9a24c1b25f14"
      },
      "execution_count": null,
      "outputs": [
        {
          "output_type": "stream",
          "name": "stdout",
          "text": [
            "not equal\n"
          ]
        }
      ]
    },
    {
      "cell_type": "markdown",
      "source": [
        "15.\tCopying Lists: Write a Python program that takes a list as input and creates a shallow copy of the list using the copy() method or the slicing technique [:]."
      ],
      "metadata": {
        "id": "wK5yar2OBUI4"
      }
    },
    {
      "cell_type": "code",
      "source": [
        "list=[\"apple\",\"bannan\",\"grapes\"]\n",
        "list.copy()\n",
        "print(list)"
      ],
      "metadata": {
        "colab": {
          "base_uri": "https://localhost:8080/"
        },
        "id": "91P4nAioBUw3",
        "outputId": "8a4c0aa2-283d-49c2-f2d4-7675147191c6"
      },
      "execution_count": null,
      "outputs": [
        {
          "output_type": "stream",
          "name": "stdout",
          "text": [
            "['apple', 'bannan', 'grapes']\n"
          ]
        }
      ]
    },
    {
      "cell_type": "markdown",
      "source": [
        "16.\tChecking Sublists: Write a Python program that takes two lists as input and checks whether the second list is a sublist of the first list.\n",
        "\n"
      ],
      "metadata": {
        "id": "H8EvIghjBYD9"
      }
    },
    {
      "cell_type": "code",
      "source": [
        "list=input(\"enter list\").split()\n",
        "list1=input(\"enter list\").split()\n",
        "if all(elem in list for elem in list1):\n",
        "    print(\" sublist found\")\n",
        "else:\n",
        "   print(\"  not found\")"
      ],
      "metadata": {
        "colab": {
          "base_uri": "https://localhost:8080/"
        },
        "id": "uvdQi8MgBYsL",
        "outputId": "92be000d-a31d-4043-d8c3-11516d8f7a13"
      },
      "execution_count": null,
      "outputs": [
        {
          "output_type": "stream",
          "name": "stdout",
          "text": [
            "enter list1,2,3,4,5,6,7\n",
            "enter list3,4,5\n",
            "  not found\n"
          ]
        }
      ]
    },
    {
      "cell_type": "markdown",
      "source": [
        "17.\tJoining Lists into Strings: Write a Python program that takes a list of strings as input and joins them into a single string with a specified delimiter using the join() method."
      ],
      "metadata": {
        "id": "VK1iJTIXBax7"
      }
    },
    {
      "cell_type": "code",
      "source": [
        "list=input(\"enter a list\").split()\n",
        "delimiter=\" , \"\n",
        "joined_list=delimiter.join(list)\n",
        "print(joined_list)"
      ],
      "metadata": {
        "id": "sgQD0ZMWBcmT",
        "colab": {
          "base_uri": "https://localhost:8080/"
        },
        "outputId": "16df4653-75b6-40c4-ac1e-317d3eb02752"
      },
      "execution_count": null,
      "outputs": [
        {
          "output_type": "stream",
          "name": "stdout",
          "text": [
            "enter a list1 2 3\n",
            "1 , 2 , 3\n"
          ]
        }
      ]
    },
    {
      "cell_type": "markdown",
      "source": [
        "18.\tRemoving Specific Elements: Write a Python program that takes a list of elements and removes all occurrences of a specific element using a loop or list comprehension."
      ],
      "metadata": {
        "id": "WeLKZH6fBc06"
      }
    },
    {
      "cell_type": "code",
      "source": [
        "list=[1,2,3,4,5]\n",
        "element=2\n",
        "while element in list:\n",
        "  list.remove(element)\n",
        "print(list)"
      ],
      "metadata": {
        "id": "Izl-ejL0Be-U",
        "colab": {
          "base_uri": "https://localhost:8080/"
        },
        "outputId": "32cce333-03e4-4276-ef93-fed52bd929de"
      },
      "execution_count": null,
      "outputs": [
        {
          "output_type": "stream",
          "name": "stdout",
          "text": [
            "[1, 3, 4, 5]\n"
          ]
        }
      ]
    },
    {
      "cell_type": "markdown",
      "source": [
        "19.\tRotating Lists: Write a Python program that takes a list and an integer k as input and rotates the list to the right by k positions."
      ],
      "metadata": {
        "id": "aSxcUHo1BguE"
      }
    },
    {
      "cell_type": "code",
      "source": [],
      "metadata": {
        "id": "7sv3zrMxBhVZ"
      },
      "execution_count": null,
      "outputs": []
    },
    {
      "cell_type": "markdown",
      "source": [
        "20.\tFinding Unique Elements: Write a Python program that takes a list as input and returns a new list containing only the unique elements of the original list, preserving the original order.\n",
        "\n"
      ],
      "metadata": {
        "id": "YS4PYVCSBmWR"
      }
    },
    {
      "cell_type": "code",
      "source": [],
      "metadata": {
        "id": "LYE-CerJBotw"
      },
      "execution_count": null,
      "outputs": []
    }
  ]
}