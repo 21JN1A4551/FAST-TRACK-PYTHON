{
  "nbformat": 4,
  "nbformat_minor": 0,
  "metadata": {
    "colab": {
      "provenance": [],
      "authorship_tag": "ABX9TyOjSuJa7aj+PVbIl7eJYoGc",
      "include_colab_link": true
    },
    "kernelspec": {
      "name": "python3",
      "display_name": "Python 3"
    },
    "language_info": {
      "name": "python"
    }
  },
  "cells": [
    {
      "cell_type": "markdown",
      "metadata": {
        "id": "view-in-github",
        "colab_type": "text"
      },
      "source": [
        "<a href=\"https://colab.research.google.com/github/21JN1A4551/FAST-TRACK-PYTHON/blob/main/Untitled17.ipynb\" target=\"_parent\"><img src=\"https://colab.research.google.com/assets/colab-badge.svg\" alt=\"Open In Colab\"/></a>"
      ]
    },
    {
      "cell_type": "markdown",
      "source": [
        "1.Counting Characters: Write a Python program that takes a string input from the user and counts the number of occurrences of a specific character in the string."
      ],
      "metadata": {
        "id": "u3u9ICGCADPD"
      }
    },
    {
      "cell_type": "code",
      "source": [
        "def count_occurrences(string, char):\n",
        "    count = 0\n",
        "    for c in string:\n",
        "        if c == char:\n",
        "            count += 1\n",
        "    return count\n",
        "\n",
        "user_input = input(\"Enter a string: \")\n",
        "character = input(\"Enter the character to count: \")\n",
        "\n",
        "occurrences = count_occurrences(user_input, character)\n",
        "print(f\"The character '{character}' appears {occurrences} times in the string.\")"
      ],
      "metadata": {
        "colab": {
          "base_uri": "https://localhost:8080/"
        },
        "id": "Oj-H2vDRAinn",
        "outputId": "bddfb29f-1707-48a4-b8b1-4e84437718d5"
      },
      "execution_count": 1,
      "outputs": [
        {
          "output_type": "stream",
          "name": "stdout",
          "text": [
            "Enter a string: 1\n",
            "Enter the character to count: 1\n",
            "The character '1' appears 1 times in the string.\n"
          ]
        }
      ]
    },
    {
      "cell_type": "markdown",
      "source": [
        "2.\tReversing Strings: Write a Python function that takes a string as input and returns the string in reverse order using string slicing or the [::-1] technique."
      ],
      "metadata": {
        "id": "y_8po_phA7j7"
      }
    },
    {
      "cell_type": "code",
      "source": [
        "def reverse_string(string):\n",
        "    return string[::-1]\n",
        "\n",
        "user_input = input(\"Enter a string: \")\n",
        "reversed_string = reverse_string(user_input)\n",
        "print(\"Reversed string:\", reversed_string)"
      ],
      "metadata": {
        "colab": {
          "base_uri": "https://localhost:8080/"
        },
        "id": "SwG3NjIgA_HL",
        "outputId": "6d400701-04e5-476e-c6ff-b5e537b84d64"
      },
      "execution_count": 3,
      "outputs": [
        {
          "output_type": "stream",
          "name": "stdout",
          "text": [
            "Enter a string: prasu\n",
            "Reversed string: usarp\n"
          ]
        }
      ]
    },
    {
      "cell_type": "markdown",
      "source": [
        "\n",
        "3.Checking Palindromes: Write a Python function that checks whether a given string is a palindrome or not. (A palindrome is a word, phrase, number, or other sequence of characters that reads the same forward and backward.)\n"
      ],
      "metadata": {
        "id": "1Mpq3Jx5BXN9"
      }
    },
    {
      "cell_type": "code",
      "source": [
        " def is_palindrome(s):\n",
        "    # Convert the string to lowercase to handle case-insensitive palindromes\n",
        "    s = s.lower()\n",
        "\n",
        "    # Remove non-alphanumeric characters from the string\n",
        "    s = ''.join(char for char in s if char.isalnum())\n",
        "\n",
        "    # Check if the string is equal to its reverse\n",
        "    return s == s[::-1]\n",
        "\n",
        "# Test the function\n",
        "string_to_check = input(\"Enter a string to check if it's a palindrome: \")\n",
        "if is_palindrome(string_to_check):\n",
        "    print(\"The string is a palindrome.\")\n",
        "else:\n",
        "    print(\"The string is not a palindrome.\")\n"
      ],
      "metadata": {
        "colab": {
          "base_uri": "https://localhost:8080/"
        },
        "id": "Da_W73oHEXEK",
        "outputId": "0c3ed7d8-1e83-45c7-d3ae-41caa9e86e0d"
      },
      "execution_count": 12,
      "outputs": [
        {
          "output_type": "stream",
          "name": "stdout",
          "text": [
            "Enter a string to check if it's a palindrome: Prasu26\n",
            "The string is not a palindrome.\n"
          ]
        }
      ]
    },
    {
      "cell_type": "markdown",
      "source": [
        "4.Converting Case: Write a Python program that takes a string as input and converts it to uppercase, lowercase, and title case (each word starts with a capital letter)."
      ],
      "metadata": {
        "id": "09tRZ58FGMAg"
      }
    },
    {
      "cell_type": "code",
      "source": [
        "def convert_case(input_string):\n",
        "    uppercase = input_string.upper()\n",
        "    lowercase = input_string.lower()\n",
        "    title_case = input_string.title()\n",
        "\n",
        "    return uppercase, lowercase, title_case\n",
        "\n",
        "# Test the function\n",
        "input_string = input(\"Enter a string: \")\n",
        "upper_result, lower_result, title_result = convert_case(input_string)\n",
        "\n",
        "print(\"Uppercase:\", upper_result)\n",
        "print(\"Lowercase:\", lower_result)\n",
        "print(\"Title case:\", title_result)\n"
      ],
      "metadata": {
        "colab": {
          "base_uri": "https://localhost:8080/"
        },
        "id": "w6XM1oCqGP-V",
        "outputId": "0096c48e-873a-471e-c74a-3de8825d1508"
      },
      "execution_count": 13,
      "outputs": [
        {
          "output_type": "stream",
          "name": "stdout",
          "text": [
            "Enter a string: PRASU\n",
            "Uppercase: PRASU\n",
            "Lowercase: prasu\n",
            "Title case: Prasu\n"
          ]
        }
      ]
    },
    {
      "cell_type": "markdown",
      "source": [
        "5.Finding Substrings: Write a Python program that takes a string and a substring as input, and checks whether the substring exists within the string. Additionally, find all occurrences of the substring in the string."
      ],
      "metadata": {
        "id": "BPUUMaguGgtF"
      }
    },
    {
      "cell_type": "code",
      "source": [
        "def find_substring(string, substring):\n",
        "    occurrences = []\n",
        "    index = string.find(substring)\n",
        "    while index != -1:\n",
        "        occurrences.append(index)\n",
        "        index = string.find(substring, index + 1)\n",
        "    return occurrences\n",
        "\n",
        "# Test the function\n",
        "input_string = input(\"Enter the string: \")\n",
        "input_substring = input(\"Enter the substring to search for: \")\n",
        "\n",
        "occurrences = find_substring(input_string, input_substring)\n",
        "\n",
        "if occurrences:\n",
        "    print(\"The substring '{}' exists in the string at index/indices:\".format(input_substring), occurrences)\n",
        "else:\n",
        "    print(\"The substring '{}' does not exist in the string.\".format(input_substring))\n"
      ],
      "metadata": {
        "id": "PKBhN3YNJMGD"
      },
      "execution_count": null,
      "outputs": []
    },
    {
      "cell_type": "markdown",
      "source": [
        "6.Replacing Substrings: Write a Python program that takes a string as input and replaces all occurrences of a specified substring with another substring.\n"
      ],
      "metadata": {
        "id": "I_J6FwhLKUsa"
      }
    },
    {
      "cell_type": "code",
      "source": [
        "def replace_substring(input_string, old_substring, new_substring):\n",
        "    return input_string.replace(old_substring, new_substring)\n",
        "\n",
        "# Test the function\n",
        "input_string = input(\"Enter a string: \")\n",
        "old_substring = input(\"Enter the substring to replace: \")\n",
        "new_substring = input(\"Enter the new substring: \")\n",
        "\n",
        "result = replace_substring(input_string, old_substring, new_substring)\n",
        "print(\"Result after replacing:\", result)\n"
      ],
      "metadata": {
        "id": "2AiFVRrHKFJ4"
      },
      "execution_count": null,
      "outputs": []
    },
    {
      "cell_type": "markdown",
      "source": [
        "7.Splitting Strings: Write a Python program that takes a sentence as input and splits it into individual words using the split() method. Then, count the number of words in the sentence.\n"
      ],
      "metadata": {
        "id": "0g5zWB7JKY_N"
      }
    },
    {
      "cell_type": "code",
      "source": [
        "def count_words(sentence):\n",
        "    words = sentence.split()\n",
        "    return len(words)\n",
        "\n",
        "# Test the function\n",
        "input_sentence = input(\"Enter a sentence: \")\n",
        "word_count = count_words(input_sentence)\n",
        "print(\"Number of words in the sentence:\", word_count)\n"
      ],
      "metadata": {
        "id": "Qij5nOQVKGQv"
      },
      "execution_count": null,
      "outputs": []
    },
    {
      "cell_type": "markdown",
      "source": [
        "8.Joining Strings: Write a Python program that takes a list of words as input and joins them into a single string with spaces between the words using the join() method."
      ],
      "metadata": {
        "id": "O5VxrglxK8js"
      }
    },
    {
      "cell_type": "code",
      "source": [
        "def join_words(word_list):\n",
        "    return ' '.join(word_list)\n",
        "\n",
        "# Test the function\n",
        "input_words = input(\"Enter a list of words separated by spaces: \").split()\n",
        "result = join_words(input_words)\n",
        "print(\"Joined string:\", result)\n"
      ],
      "metadata": {
        "id": "kTfXOpRfKKmW"
      },
      "execution_count": null,
      "outputs": []
    },
    {
      "cell_type": "markdown",
      "source": [
        "9.Stripping Whitespaces: Write a Python program that takes a string as input, removes leading and trailing whitespaces, and then counts the number of characters in the cleaned string"
      ],
      "metadata": {
        "id": "IE6KHJwyKhZr"
      }
    },
    {
      "cell_type": "code",
      "source": [
        "def count_characters(input_string):\n",
        "    cleaned_string = input_string.strip()\n",
        "    return len(cleaned_string)\n",
        "\n",
        "# Test the function\n",
        "input_string = input(\"Enter a string: \")\n",
        "character_count = count_characters(input_string)\n",
        "print(\"Number of characters in the cleaned string:\", character_count)\n"
      ],
      "metadata": {
        "id": "yZRboHIVKOSI"
      },
      "execution_count": null,
      "outputs": []
    },
    {
      "cell_type": "markdown",
      "source": [
        "10.Checking Prefixes and Suffixes: Write a Python program that takes a string and a prefix/suffix as input and checks whether the string starts or ends with the specified prefix/suffix\n"
      ],
      "metadata": {
        "id": "l71r5vP8Kl5K"
      }
    },
    {
      "cell_type": "code",
      "source": [
        "def check_prefix_suffix(input_string, prefix=None, suffix=None):\n",
        "    starts_with_prefix = input_string.startswith(prefix) if prefix else True\n",
        "    ends_with_suffix = input_string.endswith(suffix) if suffix else True\n",
        "    return starts_with_prefix, ends_with_suffix\n",
        "\n",
        "# Test the function\n",
        "input_string = input(\"Enter a string: \")\n",
        "prefix = input(\"Enter a prefix (press Enter to skip): \")\n",
        "suffix = input(\"Enter a suffix (press Enter to skip): \")\n",
        "\n",
        "prefix_result, suffix_result = check_prefix_suffix(input_string, prefix, suffix)\n",
        "print(\"Starts with prefix:\", prefix_result)\n",
        "print(\"Ends with suffix:\", suffix_result)\n"
      ],
      "metadata": {
        "id": "e1fTEtGXKPn_"
      },
      "execution_count": null,
      "outputs": []
    }
  ]
}